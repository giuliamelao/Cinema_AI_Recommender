{
 "cells": [
  {
   "cell_type": "code",
   "execution_count": 2,
   "id": "9034538c",
   "metadata": {},
   "outputs": [],
   "source": [
    "import pandas as pd\n",
    "from sklearn.model_selection import train_test_split\n",
    "import numpy as np\n",
    "from scipy.sparse.linalg import svds\n",
    "from scipy.sparse import csr_matrix\n",
    "import matplotlib.pyplot as plt\n",
    "import seaborn as sns\n",
    "from sklearn.metrics import mean_absolute_error\n",
    "from sklearn.metrics import mean_squared_error"
   ]
  },
  {
   "cell_type": "code",
   "execution_count": null,
   "id": "3ce9c646",
   "metadata": {},
   "outputs": [],
   "source": [
    "df = pd.read_csv('Netflix_User_Ratings.csv')"
   ]
  },
  {
   "cell_type": "code",
   "execution_count": 3,
   "id": "863e3cce",
   "metadata": {},
   "outputs": [],
   "source": [
    "# Como nosso dataset possue mais de 100 milhões de linhas, preciso dividir em chunks menores para conseguir rodar\n",
    "ratings = pd.read_csv('Netflix_User_Ratings.csv', nrows=100000)"
   ]
  },
  {
   "cell_type": "code",
   "execution_count": 3,
   "id": "bc6e9c5e",
   "metadata": {},
   "outputs": [
    {
     "data": {
      "text/html": [
       "<div>\n",
       "<style scoped>\n",
       "    .dataframe tbody tr th:only-of-type {\n",
       "        vertical-align: middle;\n",
       "    }\n",
       "\n",
       "    .dataframe tbody tr th {\n",
       "        vertical-align: top;\n",
       "    }\n",
       "\n",
       "    .dataframe thead th {\n",
       "        text-align: right;\n",
       "    }\n",
       "</style>\n",
       "<table border=\"1\" class=\"dataframe\">\n",
       "  <thead>\n",
       "    <tr style=\"text-align: right;\">\n",
       "      <th></th>\n",
       "      <th>CustId</th>\n",
       "      <th>Rating</th>\n",
       "      <th>Date</th>\n",
       "      <th>MovieId</th>\n",
       "    </tr>\n",
       "  </thead>\n",
       "  <tbody>\n",
       "    <tr>\n",
       "      <th>0</th>\n",
       "      <td>1488844</td>\n",
       "      <td>3</td>\n",
       "      <td>2005-09-06</td>\n",
       "      <td>1</td>\n",
       "    </tr>\n",
       "    <tr>\n",
       "      <th>1</th>\n",
       "      <td>822109</td>\n",
       "      <td>5</td>\n",
       "      <td>2005-05-13</td>\n",
       "      <td>1</td>\n",
       "    </tr>\n",
       "    <tr>\n",
       "      <th>2</th>\n",
       "      <td>885013</td>\n",
       "      <td>4</td>\n",
       "      <td>2005-10-19</td>\n",
       "      <td>1</td>\n",
       "    </tr>\n",
       "    <tr>\n",
       "      <th>3</th>\n",
       "      <td>30878</td>\n",
       "      <td>4</td>\n",
       "      <td>2005-12-26</td>\n",
       "      <td>1</td>\n",
       "    </tr>\n",
       "    <tr>\n",
       "      <th>4</th>\n",
       "      <td>823519</td>\n",
       "      <td>3</td>\n",
       "      <td>2004-05-03</td>\n",
       "      <td>1</td>\n",
       "    </tr>\n",
       "    <tr>\n",
       "      <th>...</th>\n",
       "      <td>...</td>\n",
       "      <td>...</td>\n",
       "      <td>...</td>\n",
       "      <td>...</td>\n",
       "    </tr>\n",
       "    <tr>\n",
       "      <th>99995</th>\n",
       "      <td>2146325</td>\n",
       "      <td>5</td>\n",
       "      <td>2004-04-29</td>\n",
       "      <td>30</td>\n",
       "    </tr>\n",
       "    <tr>\n",
       "      <th>99996</th>\n",
       "      <td>2103907</td>\n",
       "      <td>3</td>\n",
       "      <td>2004-07-14</td>\n",
       "      <td>30</td>\n",
       "    </tr>\n",
       "    <tr>\n",
       "      <th>99997</th>\n",
       "      <td>2581477</td>\n",
       "      <td>4</td>\n",
       "      <td>2005-08-27</td>\n",
       "      <td>30</td>\n",
       "    </tr>\n",
       "    <tr>\n",
       "      <th>99998</th>\n",
       "      <td>2182488</td>\n",
       "      <td>4</td>\n",
       "      <td>2004-08-21</td>\n",
       "      <td>30</td>\n",
       "    </tr>\n",
       "    <tr>\n",
       "      <th>99999</th>\n",
       "      <td>2515863</td>\n",
       "      <td>4</td>\n",
       "      <td>2004-08-02</td>\n",
       "      <td>30</td>\n",
       "    </tr>\n",
       "  </tbody>\n",
       "</table>\n",
       "<p>100000 rows × 4 columns</p>\n",
       "</div>"
      ],
      "text/plain": [
       "        CustId  Rating        Date  MovieId\n",
       "0      1488844       3  2005-09-06        1\n",
       "1       822109       5  2005-05-13        1\n",
       "2       885013       4  2005-10-19        1\n",
       "3        30878       4  2005-12-26        1\n",
       "4       823519       3  2004-05-03        1\n",
       "...        ...     ...         ...      ...\n",
       "99995  2146325       5  2004-04-29       30\n",
       "99996  2103907       3  2004-07-14       30\n",
       "99997  2581477       4  2005-08-27       30\n",
       "99998  2182488       4  2004-08-21       30\n",
       "99999  2515863       4  2004-08-02       30\n",
       "\n",
       "[100000 rows x 4 columns]"
      ]
     },
     "execution_count": 3,
     "metadata": {},
     "output_type": "execute_result"
    }
   ],
   "source": [
    "ratings"
   ]
  },
  {
   "cell_type": "code",
   "execution_count": 4,
   "id": "43a298e1",
   "metadata": {},
   "outputs": [],
   "source": [
    "# Aqui normalizamos os tipos de dados garantindo que não há erros e divergencias\n",
    "ratings['CustId'] = ratings['CustId'].astype('int')\n",
    "ratings['MovieId'] = ratings['MovieId'].astype('int')"
   ]
  },
  {
   "cell_type": "code",
   "execution_count": 5,
   "id": "25824e08",
   "metadata": {},
   "outputs": [
    {
     "data": {
      "text/plain": [
       "CustId        0\n",
       "Rating        0\n",
       "Date          0\n",
       "MovieId    1116\n",
       "dtype: int64"
      ]
     },
     "execution_count": 5,
     "metadata": {},
     "output_type": "execute_result"
    }
   ],
   "source": [
    "ratings.apply(lambda ratings: ratings.duplicated(), axis=1).sum()"
   ]
  },
  {
   "cell_type": "code",
   "execution_count": 51,
   "id": "b52643bb",
   "metadata": {},
   "outputs": [
    {
     "data": {
      "text/plain": [
       "CustId     0\n",
       "Rating     0\n",
       "Date       0\n",
       "MovieId    0\n",
       "dtype: int64"
      ]
     },
     "execution_count": 51,
     "metadata": {},
     "output_type": "execute_result"
    }
   ],
   "source": [
    "ratings.isna().sum()"
   ]
  },
  {
   "cell_type": "code",
   "execution_count": 53,
   "id": "1fffbe03",
   "metadata": {},
   "outputs": [
    {
     "data": {
      "image/png": "[encoded data removed]",
      "text/plain": [
       "<Figure size 640x480 with 1 Axes>"
      ]
     },
     "metadata": {},
     "output_type": "display_data"
    }
   ],
   "source": [
    "ax = sns.histplot(ratings, x='Rating')\n",
    "plt.show()\n",
    "plt.close()"
   ]
  },
  {
   "cell_type": "code",
   "execution_count": 54,
   "id": "a58d6e44",
   "metadata": {},
   "outputs": [
    {
     "name": "stderr",
     "output_type": "stream",
     "text": [
      "/tmp/ipykernel_28241/2574582863.py:1: FutureWarning: The default value of numeric_only in DataFrame.corr is deprecated. In a future version, it will default to False. Select only valid columns or specify the value of numeric_only to silence this warning.\n",
      "  corr = ratings.corr()\n"
     ]
    },
    {
     "data": {
      "image/png": "[encoded data removed]",
      "text/plain": [
       "<Figure size 1100x900 with 2 Axes>"
      ]
     },
     "metadata": {},
     "output_type": "display_data"
    }
   ],
   "source": [
    "corr = ratings.corr()\n",
    "\n",
    "mask = np.triu(np.ones_like(corr, dtype=bool))\n",
    "f, ax = plt.subplots(figsize=(11, 9))\n",
    "cmap = sns.diverging_palette(230, 20, as_cmap=True)\n",
    "\n",
    "sns.heatmap(corr, mask=mask, cmap=cmap, vmax=.3, center=0,\n",
    "            square=True, linewidths=.5, cbar_kws={\"shrink\": .5})\n",
    "plt.show()\n"
   ]
  },
  {
   "cell_type": "code",
   "execution_count": 1,
   "id": "a29e622f",
   "metadata": {},
   "outputs": [
    {
     "ename": "NameError",
     "evalue": "name 'ratings' is not defined",
     "output_type": "error",
     "traceback": [
      "\u001b[0;31m---------------------------------------------------------------------------\u001b[0m",
      "\u001b[0;31mNameError\u001b[0m                                 Traceback (most recent call last)",
      "Cell \u001b[0;32mIn[1], line 9\u001b[0m\n\u001b[1;32m      6\u001b[0m selected_columns \u001b[38;5;241m=\u001b[39m [\u001b[38;5;124m'\u001b[39m\u001b[38;5;124mCustId\u001b[39m\u001b[38;5;124m'\u001b[39m]\n\u001b[1;32m      8\u001b[0m \u001b[38;5;66;03m# Extract the features for clustering\u001b[39;00m\n\u001b[0;32m----> 9\u001b[0m X \u001b[38;5;241m=\u001b[39m \u001b[43mratings\u001b[49m[selected_columns]\n\u001b[1;32m     11\u001b[0m \u001b[38;5;66;03m# Standardize the features\u001b[39;00m\n\u001b[1;32m     12\u001b[0m scaler \u001b[38;5;241m=\u001b[39m StandardScaler()\n",
      "\u001b[0;31mNameError\u001b[0m: name 'ratings' is not defined"
     ]
    }
   ],
   "source": [
    "from sklearn.preprocessing import StandardScaler\n",
    "from sklearn.cluster import DBSCAN\n",
    "\n",
    "# Assuming your dataframe is named 'df'\n",
    "# Select relevant columns for clustering\n",
    "selected_columns = ['CustId']\n",
    "\n",
    "# Extract the features for clustering\n",
    "X = ratings[selected_columns]\n",
    "\n",
    "# Standardize the features\n",
    "scaler = StandardScaler()\n",
    "X_scaled = scaler.fit_transform(X)\n",
    "\n",
    "# Perform DBSCAN clustering\n",
    "dbscan = DBSCAN(eps=0.5, min_samples=500)\n",
    "clusters = dbscan.fit_predict(X_scaled)\n",
    "\n",
    "# Add the cluster labels to the dataframe\n",
    "ratings['Cluster'] = clusters\n",
    "\n",
    "# Visualize the clusters\n",
    "plt.figure(figsize=(10, 6))\n",
    "sns.scatterplot(x='CustId', y='MovieId', hue='Cluster', data=ratings, palette='viridis', legend='full')\n",
    "plt.title('DBSCAN Clustering of Movie Ratings')\n",
    "plt.show()\n"
   ]
  },
  {
   "cell_type": "code",
   "execution_count": null,
   "id": "ecd1ac7d",
   "metadata": {},
   "outputs": [],
   "source": []
  },
  {
   "cell_type": "code",
   "execution_count": null,
   "id": "e1118438",
   "metadata": {},
   "outputs": [],
   "source": []
  },
  {
   "cell_type": "code",
   "execution_count": null,
   "id": "0778a96d",
   "metadata": {},
   "outputs": [],
   "source": []
  },
  {
   "cell_type": "code",
   "execution_count": 11,
   "id": "66f2805f",
   "metadata": {},
   "outputs": [],
   "source": [
    "\n",
    "train_data, test_data = train_test_split(ratings, test_size=0.2, random_state=42)"
   ]
  },
  {
   "cell_type": "code",
   "execution_count": 12,
   "id": "f3ee4793",
   "metadata": {},
   "outputs": [],
   "source": [
    "ratings_train_matrix = train_data.pivot(index='CustId', columns='MovieId', values='Rating').fillna(0)"
   ]
  },
  {
   "cell_type": "code",
   "execution_count": null,
   "id": "cacc2faf",
   "metadata": {},
   "outputs": [],
   "source": []
  },
  {
   "cell_type": "code",
   "execution_count": null,
   "id": "b1b0ff2f",
   "metadata": {},
   "outputs": [],
   "source": []
  },
  {
   "cell_type": "code",
   "execution_count": 13,
   "id": "fbe74083",
   "metadata": {},
   "outputs": [],
   "source": [
    "sparse_ratings_matrix = csr_matrix(ratings_train_matrix)\n",
    "\n",
    "U, sigma, Vt = svds(sparse_ratings_matrix, k=min(sparse_ratings_matrix.shape)-1)\n",
    "\n",
    "sigma_diag_matrix = np.diag(sigma)\n",
    "\n",
    "predicted_ratings = np.dot(np.dot(U, sigma_diag_matrix), Vt)"
   ]
  },
  {
   "cell_type": "code",
   "execution_count": 25,
   "id": "c67aa23a",
   "metadata": {},
   "outputs": [
    {
     "name": "stdout",
     "output_type": "stream",
     "text": [
      "Top Recommendations for User 387418: [14, 22, 4, 15, 10, 9, 20, 24, 19, 11]\n"
     ]
    }
   ],
   "source": [
    "user_id = 387418\n",
    "user_index = ratings_train_matrix.index.get_loc(user_id)\n",
    "\n",
    "user_vector = U[user_index, :]\n",
    "\n",
    "predicted_ratings_for_user = np.dot(user_vector, Vt)\n",
    "\n",
    "num_recommendations = 10\n",
    "recommended_movie_indices = np.argsort(predicted_ratings_for_user)[-num_recommendations:][::-1]\n",
    "\n",
    "recommended_movie_ids = ratings_train_matrix.columns[recommended_movie_indices]\n",
    "\n",
    "print(f\"Top Recommendations for User {user_id}:\", recommended_movie_ids.tolist())\n"
   ]
  },
  {
   "cell_type": "code",
   "execution_count": 26,
   "id": "2ab09286",
   "metadata": {},
   "outputs": [
    {
     "name": "stdout",
     "output_type": "stream",
     "text": [
      "Top Recommendations for User 387418 in Test Set: [8, 7, 23, 5, 20, 19, 15, 14, 27, 9]\n"
     ]
    }
   ],
   "source": [
    "user_id_test = 387418\n",
    "user_index_train = train_data[train_data['CustId'] == user_id_test].index[0]\n",
    "user_vector_test = U_train[user_index_train, :]\n",
    "\n",
    "predicted_ratings_for_user_test = np.dot(user_vector_test, Vt_train)\n",
    "\n",
    "num_recommendations_test = 10\n",
    "recommended_movie_indices_test = np.argsort(predicted_ratings_for_user_test)[-num_recommendations_test:][::-1]\n",
    "recommended_movie_ids_test = train_matrix.columns[recommended_movie_indices_test]\n",
    "\n",
    "print(f\"Top Recommendations for User {user_id_test} in Test Set:\", recommended_movie_ids_test.tolist())\n"
   ]
  },
  {
   "cell_type": "code",
   "execution_count": 32,
   "id": "2f5c74f5",
   "metadata": {},
   "outputs": [
    {
     "data": {
      "image/png": "[encoded data removed]",
      "text/plain": [
       "<Figure size 1000x600 with 1 Axes>"
      ]
     },
     "metadata": {},
     "output_type": "display_data"
    }
   ],
   "source": [
    "user_index_test = 387418\n",
    "\n",
    "# Extract the actual ratings from the test set\n",
    "actual_ratings_test = train_matrix.loc[user_index_test]\n",
    "\n",
    "# Extract the predicted ratings for the user\n",
    "predicted_ratings_for_user_test = np.dot(U_train[user_index_train, :], Vt_train)\n",
    "\n",
    "# Create a distribution plot\n",
    "sns.set(style=\"whitegrid\")\n",
    "plt.figure(figsize=(10, 6))\n",
    "sns.histplot(actual_ratings_test, label='Actual Ratings', kde=True)\n",
    "sns.histplot(predicted_ratings_for_user_test, label='Predicted Ratings', kde=True)\n",
    "plt.title('Distribution of Actual and Predicted Ratings')\n",
    "plt.xlabel('Ratings')\n",
    "plt.ylabel('MOVIE ID')\n",
    "plt.legend()\n",
    "plt.show()"
   ]
  },
  {
   "cell_type": "code",
   "execution_count": 39,
   "id": "71fb019e",
   "metadata": {},
   "outputs": [
    {
     "name": "stdout",
     "output_type": "stream",
     "text": [
      "Mean Squared Error (MSE): 2.4661787895404204\n",
      "Root Mean Squared Error (RMSE): 1.5704072050078033\n",
      "Mean Absolute Error (MAE): 1.2663982027379157\n"
     ]
    }
   ],
   "source": [
    "mse = mean_squared_error(actual_ratings_test, predicted_ratings_for_user_test)\n",
    "print(\"Mean Squared Error (MSE):\", mse)\n",
    "\n",
    "rmse = np.sqrt(mse)\n",
    "print(\"Root Mean Squared Error (RMSE):\", rmse)\n",
    "\n",
    "\n",
    "mae = mean_absolute_error(actual_ratings_test, predicted_ratings_for_user_test)\n",
    "print(\"Mean Absolute Error (MAE):\", mae)"
   ]
  },
  {
   "cell_type": "code",
   "execution_count": 40,
   "id": "34f4d65c",
   "metadata": {},
   "outputs": [
    {
     "name": "stdout",
     "output_type": "stream",
     "text": [
      "R-squared (R²): -1.8602589053948178\n"
     ]
    }
   ],
   "source": [
    "from sklearn.metrics import r2_score\n",
    "\n",
    "r_squared = r2_score(actual_ratings_test, predicted_ratings_for_user_test)\n",
    "print(\"R-squared (R²):\", r_squared)\n"
   ]
  },
  {
   "cell_type": "code",
   "execution_count": 41,
   "id": "092c027a",
   "metadata": {},
   "outputs": [
    {
     "name": "stdout",
     "output_type": "stream",
     "text": [
      "Median Absolute Error (MedAE): 1.0000873091555962\n"
     ]
    }
   ],
   "source": [
    "from sklearn.metrics import median_absolute_error\n",
    "\n",
    "medae = median_absolute_error(actual_ratings_test, predicted_ratings_for_user_test)\n",
    "print(\"Median Absolute Error (MedAE):\", medae)\n"
   ]
  },
  {
   "cell_type": "code",
   "execution_count": null,
   "id": "8e1f2737",
   "metadata": {},
   "outputs": [],
   "source": []
  }
 ],
 "metadata": {
  "kernelspec": {
   "display_name": "Python 3 (ipykernel)",
   "language": "python",
   "name": "python3"
  },
  "language_info": {
   "codemirror_mode": {
    "name": "ipython",
    "version": 3
   },
   "file_extension": ".py",
   "mimetype": "text/x-python",
   "name": "python",
   "nbconvert_exporter": "python",
   "pygments_lexer": "ipython3",
   "version": "3.10.6"
  }
 },
 "nbformat": 4,
 "nbformat_minor": 5
}
